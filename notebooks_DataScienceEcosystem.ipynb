{
  "metadata": {
    "language_info": {
      "codemirror_mode": {
        "name": "python",
        "version": 3
      },
      "file_extension": ".py",
      "mimetype": "text/x-python",
      "name": "python",
      "nbconvert_exporter": "python",
      "pygments_lexer": "ipython3",
      "version": "3.8"
    },
    "kernelspec": {
      "name": "python",
      "display_name": "Python (Pyodide)",
      "language": "python"
    }
  },
  "nbformat_minor": 4,
  "nbformat": 4,
  "cells": [
    {
      "cell_type": "markdown",
      "source": "# Data Science Tools and Ecosystem",
      "metadata": {}
    },
    {
      "cell_type": "markdown",
      "source": "In this notebook, Data Science Tools and Ecosystem are summarized.",
      "metadata": {}
    },
    {
      "cell_type": "markdown",
      "source": "Popular Languages Used by Data Scientists:\n\n1. Python\n2. R\n3. SQL\n4. Java\n5. MATLAB\n6. Julia\n",
      "metadata": {}
    },
    {
      "cell_type": "markdown",
      "source": "**Objectives:**",
      "metadata": {}
    },
    {
      "cell_type": "markdown",
      "source": "\n- Python: Python is the most widely used programming language in data science. It has a vast ecosystem of powerful libraries for data manipulation, analysis, and visualization such as NumPy, Pandas, Matplotlib, and Scikit-learn. Python's easy-to-learn syntax, versatility, and speed make it a preferred language for data scientists.\n\n- R: R is another popular programming language for data science. It is designed specifically for statistical analysis and has a wide range of built-in statistical functions and packages. R is also popular for its graphics capabilities and is used for creating high-quality data visualizations.\n\n- SQL: SQL is a language used for managing and querying relational databases. It is essential for data analysts who work with large datasets stored in databases, and it is commonly used for data exploration and aggregation.\n\n- Java: Java is a widely used programming language with strong support for distributed computing and big data. It has many useful libraries for data analysis and processing, such as Apache Hadoop and Spark, which make it a popular choice for big data analytics.\n\n- Julia: Julia is a relatively new language specifically designed for scientific computing, numerical analysis, and data science. It is designed to be fast and efficient, making it suitable for large-scale data analysis.",
      "metadata": {}
    },
    {
      "cell_type": "markdown",
      "source": "Some of the commonly used libraries used by Data Scientists include:\n\n1. NumPy: NumPy is a Python library that is used for scientific computing. It provides support for large, multi-dimensional arrays and matrices, and has a large collection of mathematical functions for working with these arrays.\n\n2. Pandas: Pandas is a Python library that is used for data manipulation and analysis. It provides a variety of data structures, including data frames and series, which allow data scientists to work with labeled and structured data.\n\n3. Matplotlib: Matplotlib is a Python library that is used for data visualization. It provides a variety of plotting functions and tools for creating high-quality plots and charts.\n\n4. Scikit-learn: Scikit-learn is a Python library that is used for machine learning. It provides a variety of algorithms and tools for tasks such as classification, regression, clustering, and dimensionality reduction.\n\n5. TensorFlow: TensorFlow is a machine learning library developed by Google. It provides support for building and training deep learning models, and has a wide range of tools for tasks such as image recognition, natural language processing, and more.\n\n6. PyTorch: PyTorch is another popular machine learning library, developed by Facebook. It is known for its ease of use and flexibility, and is often used for tasks such as computer vision, natural language processing, and more.",
      "metadata": {}
    },
    {
      "cell_type": "markdown",
      "source": "|Data Science Tools|||\n|-|------------------|------|\n|Jupyter Notebook|Spyder|RStudio|",
      "metadata": {}
    },
    {
      "cell_type": "markdown",
      "source": "### Below are a few examples of evaluating arithmetic expressions in Python\n\nArithmetic expressions are mathematical calculations that involve basic operations such as addition, subtraction, multiplication, and division. In Python, these expressions can be evaluated using the appropriate operators. In addition to the basic operations, Python supports a wide range of mathematical functions and more complex operations through the use of libraries like NumPy.\n\nHere are some examples of arithmetic expressions in Python:\n\n1. Addition: 2 + 3\n2. Subtraction: 7 - 4\n3. Multiplication: 5 * 6\n4. Division: 10 / 2\n5. Exponentiation: 2 ** 3\n6. Modulo (remainder): 15 % 4\n7. Order of operations: 3 + 4 * 5",
      "metadata": {}
    },
    {
      "cell_type": "markdown",
      "source": "This a simple arithmetic expression to mutiply then add integers",
      "metadata": {}
    },
    {
      "cell_type": "code",
      "source": "(3*4)+5",
      "metadata": {
        "trusted": true
      },
      "execution_count": 1,
      "outputs": [
        {
          "execution_count": 1,
          "output_type": "execute_result",
          "data": {
            "text/plain": "17"
          },
          "metadata": {}
        }
      ]
    },
    {
      "cell_type": "markdown",
      "source": "This will convert 200 minutes to hours by diving by 60",
      "metadata": {}
    },
    {
      "cell_type": "code",
      "source": "minutes = 200\nhours = minutes / 60\nprint (hours)",
      "metadata": {
        "trusted": true
      },
      "execution_count": 4,
      "outputs": [
        {
          "name": "stdout",
          "text": "3.3333333333333335\n",
          "output_type": "stream"
        }
      ]
    },
    {
      "cell_type": "markdown",
      "source": "## Author \nSoroush",
      "metadata": {}
    },
    {
      "cell_type": "code",
      "source": "",
      "metadata": {},
      "execution_count": null,
      "outputs": []
    }
  ]
}